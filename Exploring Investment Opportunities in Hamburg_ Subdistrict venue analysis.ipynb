{
 "cells": [
  {
   "cell_type": "markdown",
   "metadata": {},
   "source": [
    "## A description of the problem and a discussion of the background. \n",
    "In residential real estate risks are an important parameter that should be considered, as it could have a huge effect on an otherwise good looking investment opportunity. \n",
    "\n",
    "When looking at risk of an investment property, three key variables are important:\n",
    "1. Liquidity risk: Is this easy to rent? Are people interested in living this area? Who could a potential tenant be?\n",
    "2. Asset risk: Are there big projects coming up? Will a refurb be necessary? Are there sufficient light and are noise levels tolerable?\n",
    "3. Location risk: Does it have good transport links? Does it have shopping opportunities nearby? Are there green areas? Is it a safe area? \n",
    "\n",
    "When investing at scale, it won’t be possible to take a long walk in the area to get a feel of the neighbourhood. Therefore, it’s important to be able to assess a location automatically at scale. A well served area should have everything from good transport links, a local coffee shop and exciting restaurants just waiting to be discovered. For families good schools and green space would also be an important factor.  \n",
    "\n",
    "In the following I’ll be exploring how the Foursquare API can be used to assess the entertainment scene in an area. This just covers a small part of the area risk, but something which is important. Furthermore, the development of new restaurants in an area also says a lot about the type of area. Are there few, high quality artisan coffee shops, or is it an area with lots of bars and clubs? \n"
   ]
  },
  {
   "cell_type": "markdown",
   "metadata": {},
   "source": [
    "## A description of the data and how it will be used to solve the problem.\n",
    "The Foursquare API gives us access to a large amount of local restaurants and coffee shop data. Anecdotally, comparing the data to Google Maps, Foursquare does not cover all establishments in Hamburgs, but the data is sufficient to get a feel about availability for a number of investment opportunities. \n",
    "\n",
    "I will take the following approach:\n",
    "1. Scraping the subdistricts of Hamburg: https://en.wikipedia.org/wiki/Boroughs_and_quarters_of_Hamburg\n",
    "2. Getting geocordinates from the subdistricts using geoply client\n",
    "3. Use the Foursquare API to identify venues within in the areas\n",
    "4. Cluster the districts using k-means\n",
    "5. Calculate key performance metrics for the area:\n",
    "    1. Venue density: how many venues are there within the area\n",
    "    2. Venue breath: are there a number of different types of venues i.e. restaurants, coffee shops and grocery shops\n",
    "    3. What are the average venue rating for the area\n",
    "6. Explore different types of interesting visualisations\n",
    "\n",
    "With this information at hand we will be able to make an assessment of whether this is an area that lives up to our investment criteria for venues in the neighbourhood of an investment opportunity. "
   ]
  },
  {
   "cell_type": "code",
   "execution_count": null,
   "metadata": {},
   "outputs": [],
   "source": []
  }
 ],
 "metadata": {
  "kernelspec": {
   "display_name": "Python 3",
   "language": "python",
   "name": "python3"
  },
  "language_info": {
   "codemirror_mode": {
    "name": "ipython",
    "version": 3
   },
   "file_extension": ".py",
   "mimetype": "text/x-python",
   "name": "python",
   "nbconvert_exporter": "python",
   "pygments_lexer": "ipython3",
   "version": "3.8.3"
  }
 },
 "nbformat": 4,
 "nbformat_minor": 4
}
